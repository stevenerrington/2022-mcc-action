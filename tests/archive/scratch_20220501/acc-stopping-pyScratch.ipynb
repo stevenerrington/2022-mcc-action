{
 "cells": [
  {
   "cell_type": "code",
   "execution_count": 1,
   "metadata": {},
   "outputs": [],
   "source": [
    "import pandas as pd"
   ]
  },
  {
   "cell_type": "code",
   "execution_count": 5,
   "metadata": {},
   "outputs": [],
   "source": [
    "# Import Neurophysiology Recording Logs as a dataframe\n",
    "start_url = f\"https://docs.google.com/spreadsheets/d/163v9YjcDqLu0V7RTkosaXIiW68eBbvZKFsRTO3CyquU/gviz/tq?tqx=out:csv\"\n",
    "url = start_url.replace(\" \",\"\")\n",
    "ephysLog = pd.read_csv(url)"
   ]
  }
 ],
 "metadata": {
  "interpreter": {
   "hash": "6b3badb783bac3b9559be2ed19bcf6863bdde4f5a239d28e51a3c08eb422b0b1"
  },
  "kernelspec": {
   "display_name": "Python 3.9.7 ('base')",
   "language": "python",
   "name": "python3"
  },
  "language_info": {
   "codemirror_mode": {
    "name": "ipython",
    "version": 3
   },
   "file_extension": ".py",
   "mimetype": "text/x-python",
   "name": "python",
   "nbconvert_exporter": "python",
   "pygments_lexer": "ipython3",
   "version": "3.9.7"
  },
  "orig_nbformat": 4
 },
 "nbformat": 4,
 "nbformat_minor": 2
}
